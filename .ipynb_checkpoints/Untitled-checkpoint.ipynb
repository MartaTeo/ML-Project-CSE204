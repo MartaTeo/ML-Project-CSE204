{
 "cells": [
  {
   "cell_type": "markdown",
   "id": "cfeddf41",
   "metadata": {},
   "source": [
    "**This is a first try**"
   ]
  },
  {
   "cell_type": "code",
   "execution_count": 1,
   "id": "64b78556",
   "metadata": {},
   "outputs": [
    {
     "name": "stdout",
     "output_type": "stream",
     "text": [
      "Hello world\n"
     ]
    }
   ],
   "source": [
    "print(\"Hello world\")"
   ]
  },
  {
   "cell_type": "code",
   "execution_count": 2,
   "id": "304f218b",
   "metadata": {},
   "outputs": [
    {
     "name": "stdout",
     "output_type": "stream",
     "text": [
      "0\n",
      "1\n",
      "2\n",
      "3\n",
      "4\n"
     ]
    }
   ],
   "source": [
    "for i in range(5):\n",
    "    print(i)"
   ]
  },
  {
   "cell_type": "code",
   "execution_count": 3,
   "id": "a97e353a",
   "metadata": {},
   "outputs": [
    {
     "data": {
      "text/plain": [
       "14"
      ]
     },
     "execution_count": 3,
     "metadata": {},
     "output_type": "execute_result"
    }
   ],
   "source": [
    "x = 10\n",
    "x + 4"
   ]
  },
  {
   "cell_type": "code",
   "execution_count": null,
   "id": "982b0502",
   "metadata": {},
   "outputs": [],
   "source": [
    "marta = \"superstar\""
   ]
  },
  {
   "cell_type": "code",
   "execution_count": 1,
   "id": "2976d145",
   "metadata": {},
   "outputs": [],
   "source": [
    "fish = 3"
   ]
  },
  {
   "cell_type": "code",
   "execution_count": null,
   "id": "a0783ea8",
   "metadata": {},
   "outputs": [],
   "source": []
  }
 ],
 "metadata": {
  "kernelspec": {
   "display_name": "Python 3 (ipykernel)",
   "language": "python",
   "name": "python3"
  },
  "language_info": {
   "codemirror_mode": {
    "name": "ipython",
    "version": 3
   },
   "file_extension": ".py",
   "mimetype": "text/x-python",
   "name": "python",
   "nbconvert_exporter": "python",
   "pygments_lexer": "ipython3",
   "version": "3.9.2"
  }
 },
 "nbformat": 4,
 "nbformat_minor": 5
}
